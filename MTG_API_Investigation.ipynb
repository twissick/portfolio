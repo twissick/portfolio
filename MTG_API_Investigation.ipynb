{
 "cells": [
  {
   "cell_type": "markdown",
   "id": "40d2c122-1cc0-4f02-bace-faf7dca7a186",
   "metadata": {},
   "source": [
    "This notebook is designed to help me build Magic: The Gathering decks using external data from the website \"Scryfall,\" which tracks datapoints on all cards, such as set, rarity, price, and more.\n",
    "\n",
    "In building this, I hope to automate the process of budgeting for a new deck by calling Scryfall's API to get me prices.\n",
    "\n",
    "I am also evaluating using a task scheduler to execute this process on a set schedule. This way, I could evaluate when a card price seems to be fluctuating, allowing me to make a decision about when I want to purchase it."
   ]
  },
  {
   "cell_type": "code",
   "execution_count": 1,
   "id": "541adfcb-0e02-43ae-873a-0bcd316e363a",
   "metadata": {},
   "outputs": [],
   "source": [
    "import requests as requests"
   ]
  },
  {
   "cell_type": "code",
   "execution_count": 2,
   "id": "cce8d793-3937-43f6-92cb-e3c196a8a526",
   "metadata": {},
   "outputs": [
    {
     "data": {
      "text/plain": [
       "'{\"object\":\"list\",\"has_more\":false,\"data\":[{\"object\":\"bulk_data\",\"id\":\"27bf3214-1271-490b-bdfe-c0be6c23d02e\",\"type\":\"oracle_cards\",\"updated_at\":\"2023-04-09T09:02:18.555+00:00\",\"uri\":\"https://api.scryfall.com/bulk-data/27bf3214-1271-490b-bdfe-c0be6c23d02e\",\"name\":\"Oracle Cards\",\"description\":\"A JSON file containing one Scryfall card object for each Oracle ID on Scryfall. The chosen sets for the cards are an attempt to return the most up-to-date recognizable version of the card.\",\"size\":114387457,\"download_uri\":\"https://data.scryfall.io/oracle-cards/oracle-cards-20230409090218.json\",\"content_type\":\"application/json\",\"content_encoding\":\"gzip\"},{\"object\":\"bulk_data\",\"id\":\"6bbcf976-6369-4401-88fc-3a9e4984c305\",\"type\":\"unique_artwork\",\"updated_at\":\"2023-04-09T09:03:07.111+00:00\",\"uri\":\"https://api.scryfall.com/bulk-data/6bbcf976-6369-4401-88fc-3a9e4984c305\",\"name\":\"Unique Artwork\",\"description\":\"A JSON file of Scryfall card objects that together contain all unique artworks. The chosen cards promote the best image scans.\",\"size\":148713530,\"download_uri\":\"https://data.scryfall.io/unique-artwork/unique-artwork-20230409090307.json\",\"content_type\":\"application/json\",\"content_encoding\":\"gzip\"},{\"object\":\"bulk_data\",\"id\":\"e2ef41e3-5778-4bc2-af3f-78eca4dd9c23\",\"type\":\"default_cards\",\"updated_at\":\"2023-04-09T09:06:31.077+00:00\",\"uri\":\"https://api.scryfall.com/bulk-data/e2ef41e3-5778-4bc2-af3f-78eca4dd9c23\",\"name\":\"Default Cards\",\"description\":\"A JSON file containing every card object on Scryfall in English or the printed language if the card is only available in one language.\",\"size\":328699232,\"download_uri\":\"https://data.scryfall.io/default-cards/default-cards-20230409090631.json\",\"content_type\":\"application/json\",\"content_encoding\":\"gzip\"},{\"object\":\"bulk_data\",\"id\":\"922288cb-4bef-45e1-bb30-0c2bd3d3534f\",\"type\":\"all_cards\",\"updated_at\":\"2023-04-09T09:16:27.999+00:00\",\"uri\":\"https://api.scryfall.com/bulk-data/922288cb-4bef-45e1-bb30-0c2bd3d3534f\",\"name\":\"All Cards\",\"description\":\"A JSON file containing every card object on Scryfall in every language.\",\"size\":1653929024,\"download_uri\":\"https://data.scryfall.io/all-cards/all-cards-20230409091627.json\",\"content_type\":\"application/json\",\"content_encoding\":\"gzip\"},{\"object\":\"bulk_data\",\"id\":\"06f54c0b-ab9c-452d-b35a-8297db5eb940\",\"type\":\"rulings\",\"updated_at\":\"2023-04-09T09:00:22.098+00:00\",\"uri\":\"https://api.scryfall.com/bulk-data/06f54c0b-ab9c-452d-b35a-8297db5eb940\",\"name\":\"Rulings\",\"description\":\"A JSON file containing all Rulings on Scryfall. Each ruling refers to cards via an `oracle_id`.\",\"size\":16881752,\"download_uri\":\"https://data.scryfall.io/rulings/rulings-20230409090022.json\",\"content_type\":\"application/json\",\"content_encoding\":\"gzip\"}]}'"
      ]
     },
     "execution_count": 2,
     "metadata": {},
     "output_type": "execute_result"
    }
   ],
   "source": [
    "# An initial exploration into Scryfall's \"bulk\" repository.\n",
    "\n",
    "url = 'https://api.scryfall.com/bulk-data'\n",
    "headers = {'Content-type': 'application/json'}\n",
    "r = requests.get(url, headers=headers)\n",
    "r.text"
   ]
  },
  {
   "cell_type": "code",
   "execution_count": 3,
   "id": "0714a717-33e4-43f9-a5f7-78a2bfccd177",
   "metadata": {},
   "outputs": [
    {
     "data": {
      "text/plain": [
       "200"
      ]
     },
     "execution_count": 3,
     "metadata": {},
     "output_type": "execute_result"
    }
   ],
   "source": [
    "# Looks good!\n",
    "r.status_code"
   ]
  },
  {
   "cell_type": "markdown",
   "id": "d00c9ff7-c5cc-4976-bf7b-40bf68f132ac",
   "metadata": {},
   "source": [
    "This is where the magic (hah) happens. Now that we have a connection to the API, we can write these card entries to a Pandas dataframe. First, we load in our Excel spreadsheet. Then we us a \"for\" loop to iterate over the names in the spreadsheet.\n",
    "\n",
    "Once we have names, we create a blank \"prices\" list, then generate URLs based on card name--this is accomplished using an F-string.\n",
    "\n",
    "In the same \"for\" loop, we also query the API, retrieve a response in JSON, and append the 'price' column entry for that card.\n",
    "\n",
    "Last, we output to a Pandas dataframe and check the results. Looking good!"
   ]
  },
  {
   "cell_type": "code",
   "execution_count": null,
   "id": "3e082401-e2b2-46c7-83d1-68c6838221cb",
   "metadata": {},
   "outputs": [],
   "source": [
    "import requests\n",
    "import openpyxl\n",
    "\n",
    "# Load Excel file\n",
    "wb = openpyxl.load_workbook('cards.xlsx')\n",
    "ws = wb.active\n",
    "\n",
    "# Create empty list to append results\n",
    "card_data = []\n",
    "\n",
    "# Iterate over rows and fetch prices\n",
    "for row in ws.iter_rows(min_row=2, values_only=True):\n",
    "    card_name = row[0]\n",
    "    set_code = row[1]\n",
    "    collector_number = row[2]\n",
    "\n",
    "    # Define API query URL\n",
    "    url = f\"https://api.scryfall.com/cards/{set_code}/{collector_number}\"\n",
    "\n",
    "    # Standard API fetch\n",
    "    response = requests.get(url)\n",
    "    data = response.json()\n",
    "\n",
    "    # Check for price.\n",
    "    if data['object'] == 'error':\n",
    "        # Queries fuzzy match on card name if not found by set code\n",
    "        url = f\"https://api.scryfall.com/cards/named?fuzzy={card_name}\"\n",
    "        response = requests.get(url)\n",
    "        data = response.json()\n",
    "        \n",
    "        #Search fuzzy match with card name if set code + collector number returns an error\n",
    "        if data['object'] == 'error':\n",
    "            print(f\"No data found for {card_name} ({set_code} {card_number}\")\n",
    "        else: price = data['prices']['usd']\n",
    "        # print(f\"{card_name} ({set_code} {card_number}): {price}\")\n",
    "        card_data.append([card_name, price])\n",
    "               \n",
    "    else:\n",
    "        price = data['prices']['usd']\n",
    "        #print(f\"{card_name} ({set_code} {card_number}): {price}\")\n",
    "        card_data.append([card_name, price])\n",
    "\n",
    "# Create a pandas dataframe and append all entries\n",
    "df = pd.DataFrame(cards_data, columns=['Card Name', 'Price'])\n",
    "\n",
    "df.head()        "
   ]
  },
  {
   "cell_type": "markdown",
   "id": "7ddd1ced-48ad-494e-9d64-e1139c38f48e",
   "metadata": {},
   "source": [
    "Looking to export these files to CSV now. Let's take a look at the best option."
   ]
  },
  {
   "cell_type": "code",
   "execution_count": 9,
   "id": "eca99b15-0d5b-48ca-ad85-92cfb3eca8bc",
   "metadata": {},
   "outputs": [
    {
     "name": "stdout",
     "output_type": "stream",
     "text": [
      "C:\\Users\\twiss\\Documents\n"
     ]
    }
   ],
   "source": [
    "# Checking for working directory to see where results will be exported.\n",
    "import os\n",
    "print(os.getcwd())"
   ]
  },
  {
   "cell_type": "code",
   "execution_count": 10,
   "id": "8e8d09d2-1288-4db6-830b-645c756f8c8d",
   "metadata": {},
   "outputs": [],
   "source": [
    "# Export the complete CSV to a directory for reference. Separate using tabs to create separate columns.\n",
    "df.to_csv('scryfall.csv', sep='\\t', index=False)"
   ]
  }
 ],
 "metadata": {
  "kernelspec": {
   "display_name": "Python 3 (ipykernel)",
   "language": "python",
   "name": "python3"
  },
  "language_info": {
   "codemirror_mode": {
    "name": "ipython",
    "version": 3
   },
   "file_extension": ".py",
   "mimetype": "text/x-python",
   "name": "python",
   "nbconvert_exporter": "python",
   "pygments_lexer": "ipython3",
   "version": "3.9.13"
  }
 },
 "nbformat": 4,
 "nbformat_minor": 5
}
