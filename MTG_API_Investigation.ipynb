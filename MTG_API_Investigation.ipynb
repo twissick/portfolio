{
 "cells": [
  {
   "cell_type": "markdown",
   "id": "40d2c122-1cc0-4f02-bace-faf7dca7a186",
   "metadata": {},
   "source": [
    "This notebook is designed to help me build Magic: The Gathering decks using external data from the website \"Scryfall,\" which tracks datapoints on all cards, such as set, rarity, price, and more.\n",
    "\n",
    "In building this, I hope to automate the process of budgeting for a new deck by calling Scryfall's API to get me prices.\n",
    "\n",
    "I am also evaluating using a task scheduler to execute this process on a set schedule. This way, I could evaluate when a card price seems to be fluctuating, allowing me to make a decision about when I want to purchase it."
   ]
  },
  {
   "cell_type": "code",
   "execution_count": 1,
   "id": "541adfcb-0e02-43ae-873a-0bcd316e363a",
   "metadata": {},
   "outputs": [],
   "source": [
    "import requests as requests"
   ]
  },
  {
   "cell_type": "code",
   "execution_count": 2,
   "id": "cce8d793-3937-43f6-92cb-e3c196a8a526",
   "metadata": {},
   "outputs": [
    {
     "data": {
      "text/plain": [
       "'{\"object\":\"list\",\"has_more\":false,\"data\":[{\"object\":\"bulk_data\",\"id\":\"27bf3214-1271-490b-bdfe-c0be6c23d02e\",\"type\":\"oracle_cards\",\"updated_at\":\"2023-03-11T10:02:32.225+00:00\",\"uri\":\"https://api.scryfall.com/bulk-data/27bf3214-1271-490b-bdfe-c0be6c23d02e\",\"name\":\"Oracle Cards\",\"description\":\"A JSON file containing one Scryfall card object for each Oracle ID on Scryfall. The chosen sets for the cards are an attempt to return the most up-to-date recognizable version of the card.\",\"size\":112181077,\"download_uri\":\"https://data.scryfall.io/oracle-cards/oracle-cards-20230311100232.json\",\"content_type\":\"application/json\",\"content_encoding\":\"gzip\"},{\"object\":\"bulk_data\",\"id\":\"6bbcf976-6369-4401-88fc-3a9e4984c305\",\"type\":\"unique_artwork\",\"updated_at\":\"2023-03-11T10:03:10.078+00:00\",\"uri\":\"https://api.scryfall.com/bulk-data/6bbcf976-6369-4401-88fc-3a9e4984c305\",\"name\":\"Unique Artwork\",\"description\":\"A JSON file of Scryfall card objects that together contain all unique artworks. The chosen cards promote the best image scans.\",\"size\":145769079,\"download_uri\":\"https://data.scryfall.io/unique-artwork/unique-artwork-20230311100310.json\",\"content_type\":\"application/json\",\"content_encoding\":\"gzip\"},{\"object\":\"bulk_data\",\"id\":\"e2ef41e3-5778-4bc2-af3f-78eca4dd9c23\",\"type\":\"default_cards\",\"updated_at\":\"2023-03-11T10:05:46.564+00:00\",\"uri\":\"https://api.scryfall.com/bulk-data/e2ef41e3-5778-4bc2-af3f-78eca4dd9c23\",\"name\":\"Default Cards\",\"description\":\"A JSON file containing every card object on Scryfall in English or the printed language if the card is only available in one language.\",\"size\":320768473,\"download_uri\":\"https://data.scryfall.io/default-cards/default-cards-20230311100546.json\",\"content_type\":\"application/json\",\"content_encoding\":\"gzip\"},{\"object\":\"bulk_data\",\"id\":\"922288cb-4bef-45e1-bb30-0c2bd3d3534f\",\"type\":\"all_cards\",\"updated_at\":\"2023-03-11T10:16:32.673+00:00\",\"uri\":\"https://api.scryfall.com/bulk-data/922288cb-4bef-45e1-bb30-0c2bd3d3534f\",\"name\":\"All Cards\",\"description\":\"A JSON file containing every card object on Scryfall in every language.\",\"size\":1638765456,\"download_uri\":\"https://data.scryfall.io/all-cards/all-cards-20230311101632.json\",\"content_type\":\"application/json\",\"content_encoding\":\"gzip\"},{\"object\":\"bulk_data\",\"id\":\"06f54c0b-ab9c-452d-b35a-8297db5eb940\",\"type\":\"rulings\",\"updated_at\":\"2023-03-11T10:00:28.729+00:00\",\"uri\":\"https://api.scryfall.com/bulk-data/06f54c0b-ab9c-452d-b35a-8297db5eb940\",\"name\":\"Rulings\",\"description\":\"A JSON file containing all Rulings on Scryfall. Each ruling refers to cards via an `oracle_id`.\",\"size\":16854596,\"download_uri\":\"https://data.scryfall.io/rulings/rulings-20230311100028.json\",\"content_type\":\"application/json\",\"content_encoding\":\"gzip\"}]}'"
      ]
     },
     "execution_count": 2,
     "metadata": {},
     "output_type": "execute_result"
    }
   ],
   "source": [
    "# An initial exploration into Scryfall's \"bulk\" repository.\n",
    "\n",
    "url = 'https://api.scryfall.com/bulk-data'\n",
    "headers = {'Content-type': 'application/json'}\n",
    "r = requests.get(url, headers=headers)\n",
    "r.text"
   ]
  },
  {
   "cell_type": "code",
   "execution_count": 3,
   "id": "0714a717-33e4-43f9-a5f7-78a2bfccd177",
   "metadata": {},
   "outputs": [
    {
     "data": {
      "text/plain": [
       "200"
      ]
     },
     "execution_count": 3,
     "metadata": {},
     "output_type": "execute_result"
    }
   ],
   "source": [
    "# Looks good!\n",
    "r.status_code"
   ]
  },
  {
   "cell_type": "markdown",
   "id": "d00c9ff7-c5cc-4976-bf7b-40bf68f132ac",
   "metadata": {},
   "source": [
    "This is where the magic (hah) happens. Now that we have a connection to the API, we can write these card entries to a Pandas dataframe. First, we load in our Excel spreadsheet. Then we us a \"for\" loop to iterate over the names in the spreadsheet.\n",
    "\n",
    "Once we have names, we create a blank \"prices\" list, then generate URLs based on card name--this is accomplished using an F-string.\n",
    "\n",
    "In the same \"for\" loop, we also query the API, retrieve a response in JSON, and append the 'price' column entry for that card.\n",
    "\n",
    "Last, we output to a Pandas dataframe and check the results. Looking good!"
   ]
  },
  {
   "cell_type": "code",
   "execution_count": 6,
   "id": "1964579b-56ab-4100-b9bc-618e869899b6",
   "metadata": {},
   "outputs": [
    {
     "name": "stdout",
     "output_type": "stream",
     "text": [
      "                    Card Name Price\n",
      "0                   card_name  0.23\n",
      "1              Adarkar Wastes  3.93\n",
      "2   Aminatou, the Fateshifter  3.11\n",
      "3  Approach of the Second Sun  3.49\n",
      "4               Arcane Signet  0.95\n"
     ]
    }
   ],
   "source": [
    "import pandas as pd\n",
    "import openpyxl\n",
    "\n",
    "# Load the Excel file and select the active worksheet\n",
    "wb = openpyxl.load_workbook('cards.xlsx')\n",
    "ws = wb.active\n",
    "\n",
    "# Create a list of card names from the Excel worksheet\n",
    "card_names = [row[0] for row in ws.values]\n",
    "\n",
    "# Create a list of prices for each card name using the Scryfall API\n",
    "prices = []\n",
    "for card_name in card_names:\n",
    "    url = f\"https://api.scryfall.com/cards/named?fuzzy={card_name}\"\n",
    "    response = requests.get(url)\n",
    "    data = response.json()\n",
    "    price = data['prices']['usd']\n",
    "    prices.append(price)\n",
    "\n",
    "# Create a Pandas dataframe with the card names and prices\n",
    "df = pd.DataFrame({'Card Name': card_names, 'Price': prices})\n",
    "\n",
    "# Print the resulting dataframe\n",
    "print(df.head())\n"
   ]
  },
  {
   "cell_type": "code",
   "execution_count": 36,
   "id": "e1e99dfa-cc85-43f9-a253-41c1c15065e1",
   "metadata": {},
   "outputs": [
    {
     "name": "stdout",
     "output_type": "stream",
     "text": [
      "{'object': 'card', 'id': '5c1f3f52-cb9b-4b2a-bb02-6175897ae76e', 'oracle_id': '94a3b2af-0741-48c5-b827-6ff529bafae3', 'multiverse_ids': [74237], 'tcgplayer_id': 37906, 'cardmarket_id': 14870, 'name': 'Our Market Research Shows That Players Like Really Long Card Names So We Made this Card to Have the Absolute Longest Card Name Ever Elemental', 'lang': 'en', 'released_at': '2004-11-19', 'uri': 'https://api.scryfall.com/cards/5c1f3f52-cb9b-4b2a-bb02-6175897ae76e', 'scryfall_uri': 'https://scryfall.com/card/unh/107/our-market-research-shows-that-players-like-really-long-card-names-so-we-made-this-card-to-have-the-absolute-longest-card-name-ever-elemental?utm_source=api', 'layout': 'normal', 'highres_image': True, 'image_status': 'highres_scan', 'image_uris': {'small': 'https://cards.scryfall.io/small/front/5/c/5c1f3f52-cb9b-4b2a-bb02-6175897ae76e.jpg?1562488399', 'normal': 'https://cards.scryfall.io/normal/front/5/c/5c1f3f52-cb9b-4b2a-bb02-6175897ae76e.jpg?1562488399', 'large': 'https://cards.scryfall.io/large/front/5/c/5c1f3f52-cb9b-4b2a-bb02-6175897ae76e.jpg?1562488399', 'png': 'https://cards.scryfall.io/png/front/5/c/5c1f3f52-cb9b-4b2a-bb02-6175897ae76e.png?1562488399', 'art_crop': 'https://cards.scryfall.io/art_crop/front/5/c/5c1f3f52-cb9b-4b2a-bb02-6175897ae76e.jpg?1562488399', 'border_crop': 'https://cards.scryfall.io/border_crop/front/5/c/5c1f3f52-cb9b-4b2a-bb02-6175897ae76e.jpg?1562488399'}, 'mana_cost': '{1}{G}{G}', 'cmc': 3.0, 'type_line': 'Creature — Elemental', 'oracle_text': \"Art rampage 2 (Whenever this creature becomes blocked by a creature, it gets +2/+2 for each creature in the blocker's art beyond the first.)\", 'power': '2', 'toughness': '2', 'colors': ['G'], 'color_identity': ['G'], 'keywords': [], 'legalities': {'standard': 'not_legal', 'future': 'not_legal', 'historic': 'not_legal', 'gladiator': 'not_legal', 'pioneer': 'not_legal', 'explorer': 'not_legal', 'modern': 'not_legal', 'legacy': 'not_legal', 'pauper': 'not_legal', 'vintage': 'not_legal', 'penny': 'not_legal', 'commander': 'not_legal', 'brawl': 'not_legal', 'historicbrawl': 'not_legal', 'alchemy': 'not_legal', 'paupercommander': 'not_legal', 'duel': 'not_legal', 'oldschool': 'not_legal', 'premodern': 'not_legal', 'predh': 'not_legal'}, 'games': ['paper'], 'reserved': False, 'foil': True, 'nonfoil': True, 'finishes': ['nonfoil', 'foil'], 'oversized': False, 'promo': False, 'reprint': False, 'variation': False, 'set_id': '4c8bc76a-05a5-43db-aaf0-34deb347b871', 'set': 'unh', 'set_name': 'Unhinged', 'set_type': 'funny', 'set_uri': 'https://api.scryfall.com/sets/4c8bc76a-05a5-43db-aaf0-34deb347b871', 'set_search_uri': 'https://api.scryfall.com/cards/search?order=set&q=e%3Aunh&unique=prints', 'scryfall_set_uri': 'https://scryfall.com/sets/unh?utm_source=api', 'rulings_uri': 'https://api.scryfall.com/cards/5c1f3f52-cb9b-4b2a-bb02-6175897ae76e/rulings', 'prints_search_uri': 'https://api.scryfall.com/cards/search?order=released&q=oracleid%3A94a3b2af-0741-48c5-b827-6ff529bafae3&unique=prints', 'collector_number': '107', 'digital': False, 'rarity': 'common', 'flavor_text': 'Just call it OMRSTPLRLCNSWMTCTHTALCNEE for short.', 'card_back_id': '0aeebaf5-8c7d-4636-9e82-8c27447861f7', 'artist': 'Greg Hildebrandt', 'artist_ids': ['020f967b-0d2f-4166-aabe-901dba8bc7ec'], 'illustration_id': 'dd2a48ad-3c45-47e4-88f3-ab90b37c1e0e', 'border_color': 'silver', 'frame': '2003', 'full_art': False, 'textless': False, 'booster': True, 'story_spotlight': False, 'prices': {'usd': '0.23', 'usd_foil': '7.75', 'usd_etched': None, 'eur': '0.10', 'eur_foil': '2.50', 'tix': None}, 'related_uris': {'gatherer': 'https://gatherer.wizards.com/Pages/Card/Details.aspx?multiverseid=74237', 'tcgplayer_infinite_articles': 'https://infinite.tcgplayer.com/search?contentMode=article&game=magic&partner=scryfall&q=Our+Market+Research+Shows+That+Players+Like+Really+Long+Card+Names+So+We+Made+this+Card+to+Have+the+Absolute+Longest+Card+Name+Ever+Elemental&utm_campaign=affiliate&utm_medium=api&utm_source=scryfall', 'tcgplayer_infinite_decks': 'https://infinite.tcgplayer.com/search?contentMode=deck&game=magic&partner=scryfall&q=Our+Market+Research+Shows+That+Players+Like+Really+Long+Card+Names+So+We+Made+this+Card+to+Have+the+Absolute+Longest+Card+Name+Ever+Elemental&utm_campaign=affiliate&utm_medium=api&utm_source=scryfall', 'edhrec': 'https://edhrec.com/route/?cc=Our+Market+Research+Shows+That+Players+Like+Really+Long+Card+Names+So+We+Made+this+Card+to+Have+the+Absolute+Longest+Card+Name+Ever+Elemental'}, 'purchase_uris': {'tcgplayer': 'https://www.tcgplayer.com/product/37906?page=1&utm_campaign=affiliate&utm_medium=api&utm_source=scryfall', 'cardmarket': 'https://www.cardmarket.com/en/Magic/Products/Search?referrer=scryfall&searchString=Our+Market+Research+Shows+That+Players+Like+Really+Long+Card+Names+So+We+Made+this+Card+to+Have+the+Absolute+Longest+Card+Name+Ever+Elemental&utm_campaign=card_prices&utm_medium=text&utm_source=scryfall', 'cardhoarder': 'https://www.cardhoarder.com/cards?affiliate_id=scryfall&data%5Bsearch%5D=Our+Market+Research+Shows+That+Players+Like+Really+Long+Card+Names+So+We+Made+this+Card+to+Have+the+Absolute+Longest+Card+Name+Ever+Elemental&ref=card-profile&utm_campaign=affiliate&utm_medium=card&utm_source=scryfall'}}\n"
     ]
    }
   ],
   "source": [
    "print(card_data)"
   ]
  },
  {
   "cell_type": "code",
   "execution_count": 7,
   "id": "8cf2dfb3-3f33-4245-8d2c-04be58c23199",
   "metadata": {},
   "outputs": [
    {
     "data": {
      "text/html": [
       "<div>\n",
       "<style scoped>\n",
       "    .dataframe tbody tr th:only-of-type {\n",
       "        vertical-align: middle;\n",
       "    }\n",
       "\n",
       "    .dataframe tbody tr th {\n",
       "        vertical-align: top;\n",
       "    }\n",
       "\n",
       "    .dataframe thead th {\n",
       "        text-align: right;\n",
       "    }\n",
       "</style>\n",
       "<table border=\"1\" class=\"dataframe\">\n",
       "  <thead>\n",
       "    <tr style=\"text-align: right;\">\n",
       "      <th></th>\n",
       "      <th>Card Name</th>\n",
       "      <th>Price</th>\n",
       "    </tr>\n",
       "  </thead>\n",
       "  <tbody>\n",
       "    <tr>\n",
       "      <th>0</th>\n",
       "      <td>card_name</td>\n",
       "      <td>0.23</td>\n",
       "    </tr>\n",
       "    <tr>\n",
       "      <th>1</th>\n",
       "      <td>Adarkar Wastes</td>\n",
       "      <td>3.93</td>\n",
       "    </tr>\n",
       "    <tr>\n",
       "      <th>2</th>\n",
       "      <td>Aminatou, the Fateshifter</td>\n",
       "      <td>3.11</td>\n",
       "    </tr>\n",
       "    <tr>\n",
       "      <th>3</th>\n",
       "      <td>Approach of the Second Sun</td>\n",
       "      <td>3.49</td>\n",
       "    </tr>\n",
       "    <tr>\n",
       "      <th>4</th>\n",
       "      <td>Arcane Signet</td>\n",
       "      <td>0.95</td>\n",
       "    </tr>\n",
       "    <tr>\n",
       "      <th>5</th>\n",
       "      <td>Atraxa, Praetors' Voice</td>\n",
       "      <td>75.54</td>\n",
       "    </tr>\n",
       "    <tr>\n",
       "      <th>6</th>\n",
       "      <td>Auramancer</td>\n",
       "      <td>0.09</td>\n",
       "    </tr>\n",
       "    <tr>\n",
       "      <th>7</th>\n",
       "      <td>Binding the Old Gods</td>\n",
       "      <td>0.60</td>\n",
       "    </tr>\n",
       "    <tr>\n",
       "      <th>8</th>\n",
       "      <td>Birth of the Imperium</td>\n",
       "      <td>0.20</td>\n",
       "    </tr>\n",
       "    <tr>\n",
       "      <th>9</th>\n",
       "      <td>Bountiful Promenade</td>\n",
       "      <td>4.20</td>\n",
       "    </tr>\n",
       "  </tbody>\n",
       "</table>\n",
       "</div>"
      ],
      "text/plain": [
       "                    Card Name  Price\n",
       "0                   card_name   0.23\n",
       "1              Adarkar Wastes   3.93\n",
       "2   Aminatou, the Fateshifter   3.11\n",
       "3  Approach of the Second Sun   3.49\n",
       "4               Arcane Signet   0.95\n",
       "5     Atraxa, Praetors' Voice  75.54\n",
       "6                  Auramancer   0.09\n",
       "7        Binding the Old Gods   0.60\n",
       "8       Birth of the Imperium   0.20\n",
       "9         Bountiful Promenade   4.20"
      ]
     },
     "execution_count": 7,
     "metadata": {},
     "output_type": "execute_result"
    }
   ],
   "source": [
    "df.head(10)"
   ]
  },
  {
   "cell_type": "code",
   "execution_count": 8,
   "id": "006e0262-20eb-4f66-ad5d-6f5af098ffab",
   "metadata": {},
   "outputs": [
    {
     "data": {
      "text/html": [
       "<div>\n",
       "<style scoped>\n",
       "    .dataframe tbody tr th:only-of-type {\n",
       "        vertical-align: middle;\n",
       "    }\n",
       "\n",
       "    .dataframe tbody tr th {\n",
       "        vertical-align: top;\n",
       "    }\n",
       "\n",
       "    .dataframe thead th {\n",
       "        text-align: right;\n",
       "    }\n",
       "</style>\n",
       "<table border=\"1\" class=\"dataframe\">\n",
       "  <thead>\n",
       "    <tr style=\"text-align: right;\">\n",
       "      <th></th>\n",
       "      <th>Card Name</th>\n",
       "      <th>Price</th>\n",
       "    </tr>\n",
       "  </thead>\n",
       "  <tbody>\n",
       "    <tr>\n",
       "      <th>1</th>\n",
       "      <td>Adarkar Wastes</td>\n",
       "      <td>3.93</td>\n",
       "    </tr>\n",
       "    <tr>\n",
       "      <th>2</th>\n",
       "      <td>Aminatou, the Fateshifter</td>\n",
       "      <td>3.11</td>\n",
       "    </tr>\n",
       "    <tr>\n",
       "      <th>3</th>\n",
       "      <td>Approach of the Second Sun</td>\n",
       "      <td>3.49</td>\n",
       "    </tr>\n",
       "    <tr>\n",
       "      <th>4</th>\n",
       "      <td>Arcane Signet</td>\n",
       "      <td>0.95</td>\n",
       "    </tr>\n",
       "    <tr>\n",
       "      <th>5</th>\n",
       "      <td>Atraxa, Praetors' Voice</td>\n",
       "      <td>75.54</td>\n",
       "    </tr>\n",
       "  </tbody>\n",
       "</table>\n",
       "</div>"
      ],
      "text/plain": [
       "                    Card Name  Price\n",
       "1              Adarkar Wastes   3.93\n",
       "2   Aminatou, the Fateshifter   3.11\n",
       "3  Approach of the Second Sun   3.49\n",
       "4               Arcane Signet   0.95\n",
       "5     Atraxa, Praetors' Voice  75.54"
      ]
     },
     "execution_count": 8,
     "metadata": {},
     "output_type": "execute_result"
    }
   ],
   "source": [
    "# Oops, looks like the index was queried as well. Dropping this entry.\n",
    "\n",
    "df1 = df.drop([0])\n",
    "df1.head()"
   ]
  },
  {
   "cell_type": "code",
   "execution_count": 9,
   "id": "eca99b15-0d5b-48ca-ad85-92cfb3eca8bc",
   "metadata": {},
   "outputs": [
    {
     "name": "stdout",
     "output_type": "stream",
     "text": [
      "C:\\Users\\twiss\\Documents\n"
     ]
    }
   ],
   "source": [
    "# Checking for working directory to see where results will be exported.\n",
    "import os\n",
    "print(os.getcwd())"
   ]
  },
  {
   "cell_type": "code",
   "execution_count": 10,
   "id": "8e8d09d2-1288-4db6-830b-645c756f8c8d",
   "metadata": {},
   "outputs": [],
   "source": [
    "# Export the complete CSV to a directory for reference. Separate using tabs to create separate columns.\n",
    "df1.to_csv('scryfall.csv', sep='\\t', index=False)"
   ]
  }
 ],
 "metadata": {
  "kernelspec": {
   "display_name": "Python 3 (ipykernel)",
   "language": "python",
   "name": "python3"
  },
  "language_info": {
   "codemirror_mode": {
    "name": "ipython",
    "version": 3
   },
   "file_extension": ".py",
   "mimetype": "text/x-python",
   "name": "python",
   "nbconvert_exporter": "python",
   "pygments_lexer": "ipython3",
   "version": "3.9.13"
  }
 },
 "nbformat": 4,
 "nbformat_minor": 5
}
