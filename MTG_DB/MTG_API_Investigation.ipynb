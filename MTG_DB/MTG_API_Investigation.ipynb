{
 "cells": [
  {
   "cell_type": "markdown",
   "id": "40d2c122-1cc0-4f02-bace-faf7dca7a186",
   "metadata": {},
   "source": [
    "## Goals and Questions\n",
    "\n",
    "This notebook is designed to help me build Magic: The Gathering decks using external data from the website \"Scryfall,\" which tracks datapoints on all cards, such as set, rarity, price, and more.\n",
    "\n",
    "In building this, I hope to:\n",
    "\n",
    "* Better understand my current decks\n",
    "* Budget more effectively for little squares of cardboard in upcoming decks through automation of price fetchings API to get me prices. \n",
    "* Visualize all this information in a Power BI dashboard. \n",
    "\n",
    "### I have a number of questions:\n",
    "\n",
    "* What are some \"key words\" for each deck?\n",
    "* What does the \"mana curve\" (the cost to cast each card, compared to other cards) look like?\n",
    "* Which deck is most expensive? Does this have any relationship to how many different \"colors\" are in that deck (spoilers, the answer is almost certainly \"Yes\")\n",
    "* What trends and patterns am I *not* seeing yet?\n",
    "\n",
    "I am also evaluating using a task scheduler to execute this process on a set schedule. This would be a slightly different project, meant to track card prices for cards I *don't* own yet, informing decisions about when to purchase them."
   ]
  },
  {
   "cell_type": "code",
   "execution_count": 2,
   "id": "541adfcb-0e02-43ae-873a-0bcd316e363a",
   "metadata": {},
   "outputs": [],
   "source": [
    "import requests as requests\n",
    "import pandas as pd"
   ]
  },
  {
   "cell_type": "code",
   "execution_count": 3,
   "id": "cce8d793-3937-43f6-92cb-e3c196a8a526",
   "metadata": {},
   "outputs": [
    {
     "data": {
      "text/plain": [
       "'{\"object\":\"list\",\"has_more\":false,\"data\":[{\"object\":\"bulk_data\",\"id\":\"27bf3214-1271-490b-bdfe-c0be6c23d02e\",\"type\":\"oracle_cards\",\"updated_at\":\"2023-04-14T09:02:08.589+00:00\",\"uri\":\"https://api.scryfall.com/bulk-data/27bf3214-1271-490b-bdfe-c0be6c23d02e\",\"name\":\"Oracle Cards\",\"description\":\"A JSON file containing one Scryfall card object for each Oracle ID on Scryfall. The chosen sets for the cards are an attempt to return the most up-to-date recognizable version of the card.\",\"size\":114511789,\"download_uri\":\"https://data.scryfall.io/oracle-cards/oracle-cards-20230414090208.json\",\"content_type\":\"application/json\",\"content_encoding\":\"gzip\"},{\"object\":\"bulk_data\",\"id\":\"6bbcf976-6369-4401-88fc-3a9e4984c305\",\"type\":\"unique_artwork\",\"updated_at\":\"2023-04-14T09:02:47.020+00:00\",\"uri\":\"https://api.scryfall.com/bulk-data/6bbcf976-6369-4401-88fc-3a9e4984c305\",\"name\":\"Unique Artwork\",\"description\":\"A JSON file of Scryfall card objects that together contain all unique artworks. The chosen cards promote the best image scans.\",\"size\":149183147,\"download_uri\":\"https://data.scryfall.io/unique-artwork/unique-artwork-20230414090247.json\",\"content_type\":\"application/json\",\"content_encoding\":\"gzip\"},{\"object\":\"bulk_data\",\"id\":\"e2ef41e3-5778-4bc2-af3f-78eca4dd9c23\",\"type\":\"default_cards\",\"updated_at\":\"2023-04-14T09:05:21.224+00:00\",\"uri\":\"https://api.scryfall.com/bulk-data/e2ef41e3-5778-4bc2-af3f-78eca4dd9c23\",\"name\":\"Default Cards\",\"description\":\"A JSON file containing every card object on Scryfall in English or the printed language if the card is only available in one language.\",\"size\":329965271,\"download_uri\":\"https://data.scryfall.io/default-cards/default-cards-20230414090521.json\",\"content_type\":\"application/json\",\"content_encoding\":\"gzip\"},{\"object\":\"bulk_data\",\"id\":\"922288cb-4bef-45e1-bb30-0c2bd3d3534f\",\"type\":\"all_cards\",\"updated_at\":\"2023-04-14T09:15:16.872+00:00\",\"uri\":\"https://api.scryfall.com/bulk-data/922288cb-4bef-45e1-bb30-0c2bd3d3534f\",\"name\":\"All Cards\",\"description\":\"A JSON file containing every card object on Scryfall in every language.\",\"size\":1655280868,\"download_uri\":\"https://data.scryfall.io/all-cards/all-cards-20230414091516.json\",\"content_type\":\"application/json\",\"content_encoding\":\"gzip\"},{\"object\":\"bulk_data\",\"id\":\"06f54c0b-ab9c-452d-b35a-8297db5eb940\",\"type\":\"rulings\",\"updated_at\":\"2023-04-14T09:00:23.857+00:00\",\"uri\":\"https://api.scryfall.com/bulk-data/06f54c0b-ab9c-452d-b35a-8297db5eb940\",\"name\":\"Rulings\",\"description\":\"A JSON file containing all Rulings on Scryfall. Each ruling refers to cards via an `oracle_id`.\",\"size\":16881752,\"download_uri\":\"https://data.scryfall.io/rulings/rulings-20230414090023.json\",\"content_type\":\"application/json\",\"content_encoding\":\"gzip\"}]}'"
      ]
     },
     "execution_count": 3,
     "metadata": {},
     "output_type": "execute_result"
    }
   ],
   "source": [
    "# An initial exploration into Scryfall's \"bulk\" repository.\n",
    "\n",
    "url = 'https://api.scryfall.com/bulk-data'\n",
    "headers = {'Content-type': 'application/json'}\n",
    "r = requests.get(url, headers=headers)\n",
    "r.text"
   ]
  },
  {
   "cell_type": "code",
   "execution_count": 4,
   "id": "0714a717-33e4-43f9-a5f7-78a2bfccd177",
   "metadata": {},
   "outputs": [
    {
     "data": {
      "text/plain": [
       "200"
      ]
     },
     "execution_count": 4,
     "metadata": {},
     "output_type": "execute_result"
    }
   ],
   "source": [
    "# Checking if this format gets a response from the API. Looks good!\n",
    "r.status_code"
   ]
  },
  {
   "cell_type": "markdown",
   "id": "d00c9ff7-c5cc-4976-bf7b-40bf68f132ac",
   "metadata": {},
   "source": [
    "## Putting it all Together (AKA ~Magic~ Python: The Gathering)\n",
    "\n",
    "This is where the magic (hah) happens. Now that we have a connection to the API, we can write these card entries to a Pandas dataframe. First, we load in our Excel spreadsheet. Then we us a \"for\" loop to iterate over the names in the spreadsheet.\n",
    "\n",
    "Once we have names, we create a blank \"prices\" list, then generate URLs based on card name--this is accomplished using an F-string.\n",
    "\n",
    "In the same \"for\" loop, we also query the API, retrieve a response in JSON, and append the 'price' column entry for that card.\n",
    "\n",
    "Last, we output to a Pandas dataframe and check the results. Looking good!"
   ]
  },
  {
   "cell_type": "code",
   "execution_count": 43,
   "id": "cf28a401-8529-4ff0-9d21-f3f742564b6b",
   "metadata": {},
   "outputs": [
    {
     "name": "stdout",
     "output_type": "stream",
     "text": [
      "No price data found for Lat-Nam's Legacy  (all  30a)\n"
     ]
    }
   ],
   "source": [
    "# Importing all libraries again in one cell so everything can be exported to Power BI\n",
    "import requests\n",
    "import openpyxl\n",
    "import pandas as pd\n",
    "\n",
    "# Load Excel file. This code will need to be run again if the .xlsx file changes.\n",
    "wb = openpyxl.load_workbook('A:/Documents/Data Science/MTG_DB/decks.xlsx', data_only=True)\n",
    "ws = wb.active\n",
    "\n",
    "# Create empty list to append results\n",
    "card_data = []\n",
    "\n",
    "# Iterate over rows to fetch prices\n",
    "for row in ws.iter_rows(min_row=2, values_only=True):\n",
    "    card_name = row[2]\n",
    "    set_code = row[4]\n",
    "    collector_number = row[5]\n",
    "    \n",
    "    # Define API URL for card\n",
    "    url = f\"https://api.scryfall.com/cards/{set_code}/{collector_number}\"\n",
    "    \n",
    "    # Fetch card data\n",
    "    try:\n",
    "        response = requests.get(url)\n",
    "        data = response.json()\n",
    "        \n",
    "    except:\n",
    "        print(f\"No data found for {card_name} ({set_code} {collector_number})\")\n",
    "        continue\n",
    "        \n",
    "    # Checking if card has price\n",
    "    if 'prices' not in data:\n",
    "        \n",
    "        # Look for a different printing with a price\n",
    "        prints_url = f\"https://api.scryfall.com/cards/search?q=!\\\"{card_name}\\\"\"\n",
    "        prints_response = requests.get(prints_url)\n",
    "        prints_data = prints_response.json()\n",
    "        for printing in prints_data['data']:\n",
    "            if 'prices' in printing:\n",
    "                data = printing\n",
    "                break\n",
    "                \n",
    "    # If absolutely no price is found, the price is set to None            \n",
    "    if 'prices' not in data or (data['prices']['usd'] is None and data['prices']['usd_foil'] is None): \n",
    "        price = None\n",
    "    \n",
    "    # Sets prices based on return of loop\n",
    "    price = data['prices']['usd'] or data['prices']['usd_foil']\n",
    "    \n",
    "    # Return remaining columns desired\n",
    "    cmc = data['cmc']\n",
    "    colors = data.get('colors', 'Colorless')\n",
    "    card_type = data['type_line']\n",
    "    oracle = data.get('oracle_text', None)\n",
    "    \n",
    "    # Append entries to list\n",
    "    card_data.append([card_name, price, card_type, colors, cmc, oracle])\n",
    "\n",
    "# Create a pandas dataframe and append all entries\n",
    "df = pd.DataFrame(card_data, columns=['Card Name', 'Price', 'Type', 'Colors', 'CMC', 'Oracle'])     "
   ]
  },
  {
   "cell_type": "code",
   "execution_count": 44,
   "id": "c94bad92-ace7-4520-88e7-432ce5c8eb68",
   "metadata": {},
   "outputs": [
    {
     "data": {
      "text/html": [
       "<div>\n",
       "<style scoped>\n",
       "    .dataframe tbody tr th:only-of-type {\n",
       "        vertical-align: middle;\n",
       "    }\n",
       "\n",
       "    .dataframe tbody tr th {\n",
       "        vertical-align: top;\n",
       "    }\n",
       "\n",
       "    .dataframe thead th {\n",
       "        text-align: right;\n",
       "    }\n",
       "</style>\n",
       "<table border=\"1\" class=\"dataframe\">\n",
       "  <thead>\n",
       "    <tr style=\"text-align: right;\">\n",
       "      <th></th>\n",
       "      <th>Card Name</th>\n",
       "      <th>Price</th>\n",
       "      <th>Type</th>\n",
       "      <th>Colors</th>\n",
       "      <th>CMC</th>\n",
       "      <th>Oracle</th>\n",
       "    </tr>\n",
       "  </thead>\n",
       "  <tbody>\n",
       "    <tr>\n",
       "      <th>0</th>\n",
       "      <td>Acidic Soil</td>\n",
       "      <td>1.65</td>\n",
       "      <td>Sorcery</td>\n",
       "      <td>[R]</td>\n",
       "      <td>3.0</td>\n",
       "      <td>Acidic Soil deals damage to each player equal ...</td>\n",
       "    </tr>\n",
       "    <tr>\n",
       "      <th>1</th>\n",
       "      <td>Angel's Grace</td>\n",
       "      <td>2.66</td>\n",
       "      <td>Instant</td>\n",
       "      <td>[W]</td>\n",
       "      <td>1.0</td>\n",
       "      <td>Split second (As long as this spell is on the ...</td>\n",
       "    </tr>\n",
       "    <tr>\n",
       "      <th>2</th>\n",
       "      <td>Anguished Unmaking</td>\n",
       "      <td>6.73</td>\n",
       "      <td>Instant</td>\n",
       "      <td>[B, W]</td>\n",
       "      <td>3.0</td>\n",
       "      <td>Exile target nonland permanent. You lose 3 life.</td>\n",
       "    </tr>\n",
       "    <tr>\n",
       "      <th>3</th>\n",
       "      <td>Arcane Signet</td>\n",
       "      <td>0.88</td>\n",
       "      <td>Artifact</td>\n",
       "      <td>[]</td>\n",
       "      <td>2.0</td>\n",
       "      <td>{T}: Add one mana of any color in your command...</td>\n",
       "    </tr>\n",
       "    <tr>\n",
       "      <th>4</th>\n",
       "      <td>Arcbond</td>\n",
       "      <td>0.46</td>\n",
       "      <td>Instant</td>\n",
       "      <td>[R]</td>\n",
       "      <td>3.0</td>\n",
       "      <td>Choose target creature. Whenever that creature...</td>\n",
       "    </tr>\n",
       "    <tr>\n",
       "      <th>5</th>\n",
       "      <td>Battlefield Forge</td>\n",
       "      <td>0.74</td>\n",
       "      <td>Land</td>\n",
       "      <td>[]</td>\n",
       "      <td>0.0</td>\n",
       "      <td>{T}: Add {C}.\\n{T}: Add {R} or {W}. Battlefiel...</td>\n",
       "    </tr>\n",
       "    <tr>\n",
       "      <th>6</th>\n",
       "      <td>Beseech the Queen</td>\n",
       "      <td>3.39</td>\n",
       "      <td>Sorcery</td>\n",
       "      <td>[B]</td>\n",
       "      <td>6.0</td>\n",
       "      <td>({2/B} can be paid with any two mana or with {...</td>\n",
       "    </tr>\n",
       "    <tr>\n",
       "      <th>7</th>\n",
       "      <td>Bojuka Bog</td>\n",
       "      <td>1.23</td>\n",
       "      <td>Land</td>\n",
       "      <td>[]</td>\n",
       "      <td>0.0</td>\n",
       "      <td>Bojuka Bog enters the battlefield tapped.\\nWhe...</td>\n",
       "    </tr>\n",
       "    <tr>\n",
       "      <th>8</th>\n",
       "      <td>Brash Taunter</td>\n",
       "      <td>1.52</td>\n",
       "      <td>Creature — Goblin</td>\n",
       "      <td>[R]</td>\n",
       "      <td>5.0</td>\n",
       "      <td>Indestructible\\nWhenever Brash Taunter is deal...</td>\n",
       "    </tr>\n",
       "    <tr>\n",
       "      <th>9</th>\n",
       "      <td>Breena, the Demagogue</td>\n",
       "      <td>3.52</td>\n",
       "      <td>Legendary Creature — Bird Warlock</td>\n",
       "      <td>[B, W]</td>\n",
       "      <td>3.0</td>\n",
       "      <td>Flying\\nWhenever a player attacks one of your ...</td>\n",
       "    </tr>\n",
       "  </tbody>\n",
       "</table>\n",
       "</div>"
      ],
      "text/plain": [
       "                Card Name Price                               Type  Colors  \\\n",
       "0            Acidic Soil   1.65                            Sorcery     [R]   \n",
       "1          Angel's Grace   2.66                            Instant     [W]   \n",
       "2     Anguished Unmaking   6.73                            Instant  [B, W]   \n",
       "3          Arcane Signet   0.88                           Artifact      []   \n",
       "4                Arcbond   0.46                            Instant     [R]   \n",
       "5      Battlefield Forge   0.74                               Land      []   \n",
       "6      Beseech the Queen   3.39                            Sorcery     [B]   \n",
       "7             Bojuka Bog   1.23                               Land      []   \n",
       "8          Brash Taunter   1.52                  Creature — Goblin     [R]   \n",
       "9  Breena, the Demagogue   3.52  Legendary Creature — Bird Warlock  [B, W]   \n",
       "\n",
       "   CMC                                             Oracle  \n",
       "0  3.0  Acidic Soil deals damage to each player equal ...  \n",
       "1  1.0  Split second (As long as this spell is on the ...  \n",
       "2  3.0   Exile target nonland permanent. You lose 3 life.  \n",
       "3  2.0  {T}: Add one mana of any color in your command...  \n",
       "4  3.0  Choose target creature. Whenever that creature...  \n",
       "5  0.0  {T}: Add {C}.\\n{T}: Add {R} or {W}. Battlefiel...  \n",
       "6  6.0  ({2/B} can be paid with any two mana or with {...  \n",
       "7  0.0  Bojuka Bog enters the battlefield tapped.\\nWhe...  \n",
       "8  5.0  Indestructible\\nWhenever Brash Taunter is deal...  \n",
       "9  3.0  Flying\\nWhenever a player attacks one of your ...  "
      ]
     },
     "execution_count": 44,
     "metadata": {},
     "output_type": "execute_result"
    }
   ],
   "source": [
    "df.head(10)"
   ]
  },
  {
   "cell_type": "code",
   "execution_count": 47,
   "id": "5756096c-9e16-4282-be2c-2963b8abc1f6",
   "metadata": {},
   "outputs": [
    {
     "data": {
      "text/html": [
       "<div>\n",
       "<style scoped>\n",
       "    .dataframe tbody tr th:only-of-type {\n",
       "        vertical-align: middle;\n",
       "    }\n",
       "\n",
       "    .dataframe tbody tr th {\n",
       "        vertical-align: top;\n",
       "    }\n",
       "\n",
       "    .dataframe thead th {\n",
       "        text-align: right;\n",
       "    }\n",
       "</style>\n",
       "<table border=\"1\" class=\"dataframe\">\n",
       "  <thead>\n",
       "    <tr style=\"text-align: right;\">\n",
       "      <th></th>\n",
       "      <th>Card Name</th>\n",
       "      <th>Price</th>\n",
       "      <th>Type</th>\n",
       "      <th>Colors</th>\n",
       "      <th>CMC</th>\n",
       "      <th>Oracle</th>\n",
       "    </tr>\n",
       "  </thead>\n",
       "  <tbody>\n",
       "  </tbody>\n",
       "</table>\n",
       "</div>"
      ],
      "text/plain": [
       "Empty DataFrame\n",
       "Columns: [Card Name, Price, Type, Colors, CMC, Oracle]\n",
       "Index: []"
      ]
     },
     "execution_count": 47,
     "metadata": {},
     "output_type": "execute_result"
    }
   ],
   "source": [
    "# Checking for any stragglers...\n",
    "df1 = df[df[\"Price\"].isnull()]\n",
    "df1.head()"
   ]
  },
  {
   "cell_type": "markdown",
   "id": "2af40587-d7d0-4d87-99c0-f059cd7a88f5",
   "metadata": {},
   "source": [
    "## Liftoff!\n",
    "\n",
    "We have a lovely data set with minimal null values, all thanks to Scryfall's excellent record keeping. Never underestimate the power of nerds in large numbers!\n",
    "\n",
    "Right off the bat, I see a few points where data will need to be cleaned:\n",
    "* \"Type\" will need to be delimited along a few different characters to split each card into single types and subtypes.\n",
    "* \"Colors\" will need to be split so that each instance of a color in the \"WUBRG pie\" is distinct.\n",
    "* This information will need to be indexed against the spreadsheet from which the names were read in. Luckily Power BI sports some robust modeling options that will help solve this."
   ]
  },
  {
   "cell_type": "markdown",
   "id": "7ddd1ced-48ad-494e-9d64-e1139c38f48e",
   "metadata": {},
   "source": [
    "## Future Exploration\n",
    "\n",
    "In future analysis, I might want to export this data frame to CSV. Let's take a look at a few basics."
   ]
  },
  {
   "cell_type": "code",
   "execution_count": 9,
   "id": "eca99b15-0d5b-48ca-ad85-92cfb3eca8bc",
   "metadata": {},
   "outputs": [
    {
     "name": "stdout",
     "output_type": "stream",
     "text": [
      "C:\\Users\\twiss\\Documents\n"
     ]
    }
   ],
   "source": [
    "# Checking for working directory to see where results will be exported.\n",
    "import os\n",
    "print(os.getcwd())"
   ]
  },
  {
   "cell_type": "code",
   "execution_count": 10,
   "id": "8e8d09d2-1288-4db6-830b-645c756f8c8d",
   "metadata": {},
   "outputs": [],
   "source": [
    "# Export the complete CSV to a directory for reference. Separate using tabs to create separate columns.\n",
    "df.to_csv('scryfall.csv', sep='\\t', index=False)"
   ]
  }
 ],
 "metadata": {
  "kernelspec": {
   "display_name": "Python 3 (ipykernel)",
   "language": "python",
   "name": "python3"
  },
  "language_info": {
   "codemirror_mode": {
    "name": "ipython",
    "version": 3
   },
   "file_extension": ".py",
   "mimetype": "text/x-python",
   "name": "python",
   "nbconvert_exporter": "python",
   "pygments_lexer": "ipython3",
   "version": "3.9.13"
  }
 },
 "nbformat": 4,
 "nbformat_minor": 5
}
